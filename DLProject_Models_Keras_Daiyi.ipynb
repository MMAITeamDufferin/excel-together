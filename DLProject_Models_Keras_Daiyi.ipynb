{
 "cells": [
  {
   "cell_type": "code",
   "execution_count": 15,
   "metadata": {},
   "outputs": [],
   "source": [
    "import numpy as np\n",
    "import pandas as pd\n",
    "import tensorflow as tf\n",
    "import matplotlib.pyplot as plt\n",
    "import seaborn as sns\n",
    "\n",
    "import warnings\n",
    "warnings.filterwarnings(\"ignore\")\n",
    "import tensorflow as tf \n",
    "from tensorflow import keras\n",
    "\n",
    "import math\n",
    "from keras.models import Sequential\n",
    "from keras.layers.core import Dense, Dropout, Activation\n",
    "from keras.layers import LSTM \n",
    "from keras.layers import GRU\n",
    "from keras.layers import Bidirectional,MaxPooling1D,Flatten,TimeDistributed\n",
    "from sklearn.preprocessing import MinMaxScaler\n",
    "from sklearn.metrics import mean_squared_error \n",
    "from keras.utils.np_utils import to_categorical \n",
    "from keras.callbacks import EarlyStopping, ModelCheckpoint\n",
    "from keras.models import load_model\n",
    "import keras.callbacks\n",
    "from scipy.ndimage import zoom\n",
    "import os\n",
    "# os.environ['TF_CPP_MIN_LOG_LEVEL']='3'\n",
    "import tensorflow as tf\n",
    "# tf.logging.set_verbosity(tf.logging.ERROR)\n",
    "%matplotlib inline"
   ]
  },
  {
   "cell_type": "code",
   "execution_count": 2,
   "metadata": {},
   "outputs": [],
   "source": [
    "# Set max_columns output to 999\n",
    "pd.set_option('display.max_columns', 999)\n",
    "\n",
    "# Extract http://archive.ics.uci.edu/ml/machine-learning-databases/00447/ to same directory as this script\n",
    "\n",
    "# List files\n",
    "one = ['.\\\\data\\\\TS1.txt', '.\\\\data\\\\TS2.txt', '.\\\\data\\\\TS3.txt', '.\\\\data\\\\TS4.txt', '.\\\\data\\\\VS1.txt', '.\\\\data\\\\CE.txt', '.\\\\data\\\\CP.txt', '.\\\\data\\\\SE.txt']\n",
    "ten = ['.\\\\data\\\\FS1.txt', '.\\\\data\\\\FS2.txt']\n",
    "hundred = ['.\\\\data\\\\PS1.txt', '.\\\\data\\\\PS2.txt', '.\\\\data\\\\PS3.txt', '.\\\\data\\\\PS4.txt', '.\\\\data\\\\PS5.txt', '.\\\\data\\\\PS6.txt', '.\\\\data\\\\EPS1.txt']\n",
    "\n",
    "# Parse condition profiles\n",
    "df_profile = pd.read_table('.\\\\data\\\\profile.txt', header=None)\n",
    "df_profile = df_profile.values.reshape(2205, 1, 5)\n",
    "df_profile = zoom(df_profile, (1,6000,1))\n",
    "\n",
    "# Parse 1 Hz measurements\n",
    "df_one =  np.stack([pd.read_table(x, header=None) for x in one], axis=2)\n",
    "df_one = zoom(df_one, (1, 100, 1))\n",
    "\n",
    "# Parse 10 Hz measurements\n",
    "df_ten =  np.stack([pd.read_table(x, header=None) for x in ten], axis=2)\n",
    "df_ten = zoom(df_ten, (1, 10, 1))\n",
    "\n",
    "# Parse 100 Hz measurements\n",
    "df_hundred = np.stack([pd.read_table(x, header=None) for x in hundred], axis=2)\n",
    "\n",
    "# Concatenate all data\n",
    "df = np.concatenate([df_one, df_ten, df_hundred], axis=2)\n",
    "\n",
    "\n"
   ]
  },
  {
   "cell_type": "code",
   "execution_count": 35,
   "metadata": {},
   "outputs": [
    {
     "data": {
      "text/plain": [
       "(2205, 6000, 17)"
      ]
     },
     "execution_count": 35,
     "metadata": {},
     "output_type": "execute_result"
    }
   ],
   "source": [
    "# Normalize the data  \n",
    "# df=(df - np.mean(df, axis=0)) / np.std(df, axis=0) "
   ]
  },
  {
   "cell_type": "code",
   "execution_count": 3,
   "metadata": {},
   "outputs": [],
   "source": [
    "# Split data into training, validation, and test sets\n",
    "val = 0.2\n",
    "test = 0.1\n",
    "train = 1 - val - test\n",
    "\n",
    "X_train = df[:int(train*df.shape[0])+1:,::,::]  # [i not in [1] for i in range(df.shape[2])]]\n",
    "X_val = df[int(train*df.shape[0])+1:int(train*df.shape[0])+int(val*df.shape[0])+1:,::,::]  # [i not in [1] for i in range(df.shape[2])]]\n",
    "X_test = df[int(train*df.shape[0])+int(val*df.shape[0])+1::,::,::]  # [i not in [1] for i in range(df.shape[2])]]\n",
    "\n",
    "oh_target = (np.arange(df_profile[:,0,1].max()+1) == df_profile[:,0,1][...,None]).astype(int)\n",
    "oh_target = np.delete(oh_target,np.where(~oh_target.any(axis=0))[0], axis=1)\n",
    "\n",
    "y_train = oh_target[:int(train*oh_target.shape[0])+1:,]\n",
    "y_val = oh_target[int(train*oh_target.shape[0])+1:int(train*oh_target.shape[0])+int(val*oh_target.shape[0])+1:,]\n",
    "y_test = oh_target[int(train*oh_target.shape[0])+int(val*oh_target.shape[0])+1::,]\n",
    "\n"
   ]
  },
  {
   "cell_type": "code",
   "execution_count": 57,
   "metadata": {},
   "outputs": [
    {
     "data": {
      "text/plain": [
       "((1544, 6000, 17),\n",
       " (441, 6000, 17),\n",
       " (220, 6000, 17),\n",
       " (1544, 4),\n",
       " (441, 4),\n",
       " (220, 4))"
      ]
     },
     "execution_count": 57,
     "metadata": {},
     "output_type": "execute_result"
    }
   ],
   "source": [
    "#verify shape for each dataset\n",
    "X_train.shape,X_val.shape,X_test.shape,y_train.shape,y_val.shape,y_test.shape"
   ]
  },
  {
   "cell_type": "code",
   "execution_count": 60,
   "metadata": {},
   "outputs": [
    {
     "data": {
      "text/plain": [
       "1544"
      ]
     },
     "execution_count": 60,
     "metadata": {},
     "output_type": "execute_result"
    }
   ],
   "source": [
    "len(X_train)"
   ]
  },
  {
   "cell_type": "markdown",
   "metadata": {},
   "source": [
    "# Use Keras"
   ]
  },
  {
   "cell_type": "code",
   "execution_count": 6,
   "metadata": {},
   "outputs": [],
   "source": [
    "# create and fit the baseline model\n",
    "# LSTM RNN\n",
    "model_0 = Sequential()\n",
    "model_0.add(LSTM(4))\n",
    "model_0.add(Dense(y_train.shape[1]))\n",
    "model_0.add(Activation('softmax'))\n",
    "model_0.compile(loss='categorical_crossentropy', optimizer='adam',metrics=['accuracy'])\n"
   ]
  },
  {
   "cell_type": "code",
   "execution_count": 8,
   "metadata": {},
   "outputs": [
    {
     "name": "stdout",
     "output_type": "stream",
     "text": [
      "Train on 1544 samples, validate on 441 samples\n",
      "Epoch 1/10\n",
      " - 13s - loss: 1.4138 - acc: 0.1554 - val_loss: 1.4119 - val_acc: 0.1655\n",
      "Epoch 2/10\n",
      " - 13s - loss: 1.4126 - acc: 0.1554 - val_loss: 1.4107 - val_acc: 0.1655\n",
      "Epoch 3/10\n",
      " - 14s - loss: 1.4114 - acc: 0.1554 - val_loss: 1.4096 - val_acc: 0.1655\n",
      "Epoch 4/10\n",
      " - 14s - loss: 1.4103 - acc: 0.1554 - val_loss: 1.4085 - val_acc: 0.1655\n",
      "Epoch 5/10\n",
      " - 15s - loss: 1.4091 - acc: 0.1554 - val_loss: 1.4074 - val_acc: 0.1655\n",
      "Epoch 6/10\n",
      " - 15s - loss: 1.4079 - acc: 0.1554 - val_loss: 1.4063 - val_acc: 0.1655\n",
      "Epoch 7/10\n",
      " - 16s - loss: 1.4068 - acc: 0.1554 - val_loss: 1.4052 - val_acc: 0.1655\n",
      "Epoch 8/10\n",
      " - 17s - loss: 1.4056 - acc: 0.1554 - val_loss: 1.4041 - val_acc: 0.1655\n",
      "Epoch 9/10\n",
      " - 18s - loss: 1.4045 - acc: 0.1554 - val_loss: 1.4030 - val_acc: 0.1655\n",
      "Epoch 10/10\n",
      " - 17s - loss: 1.4033 - acc: 0.1554 - val_loss: 1.4019 - val_acc: 0.1655\n"
     ]
    },
    {
     "data": {
      "image/png": "[encoded data removed]",
      "text/plain": [
       "<Figure size 432x288 with 1 Axes>"
      ]
     },
     "metadata": {
      "needs_background": "light"
     },
     "output_type": "display_data"
    }
   ],
   "source": [
    "#fit model  \n",
    "#evaluation for the baseline model validation dataset\n",
    "history0 = model_0.fit(X_train, y_train, epochs=10, batch_size=len(X_train),\n",
    "                    validation_data=(X_val, y_val), verbose=2, shuffle=False)\n",
    "\n",
    "plt.plot(history0.history['loss'], label='train')\n",
    "plt.plot(history0.history['val_loss'], label='test')\n",
    "plt.legend()\n",
    "plt.show() "
   ]
  },
  {
   "cell_type": "code",
   "execution_count": 9,
   "metadata": {},
   "outputs": [
    {
     "name": "stdout",
     "output_type": "stream",
     "text": [
      "[[0.30039635 0.29818407 0.14568393 0.25573555]]\n"
     ]
    }
   ],
   "source": [
    "predictions_0= model_0.predict(X_val, verbose=0)\n",
    "print(predictions_0[:1])"
   ]
  },
  {
   "cell_type": "code",
   "execution_count": 4,
   "metadata": {},
   "outputs": [],
   "source": [
    "# model_0.save('DaiyiD_model_Keras_0.h5')"
   ]
  },
  {
   "cell_type": "code",
   "execution_count": 10,
   "metadata": {},
   "outputs": [],
   "source": [
    "# create and fit model 1\n",
    "# LSTM RNN with dropout\n",
    "model_01 = Sequential()\n",
    "model_01.add(LSTM(10, dropout=0.2, recurrent_dropout=0.2))\n",
    "model_01.add(Dense(y_train.shape[1]))\n",
    "model_01.add(Activation('softmax'))\n",
    "model_01.compile(loss='categorical_crossentropy', optimizer='adam',metrics=['accuracy'])\n",
    "#fit model  \n"
   ]
  },
  {
   "cell_type": "code",
   "execution_count": 11,
   "metadata": {},
   "outputs": [
    {
     "name": "stdout",
     "output_type": "stream",
     "text": [
      "Train on 1544 samples, validate on 441 samples\n",
      "Epoch 1/25\n",
      " - 88s - loss: 1.5627 - acc: 0.2196 - val_loss: 1.6294 - val_acc: 0.1655\n",
      "Epoch 2/25\n",
      " - 162s - loss: 1.5835 - acc: 0.2144 - val_loss: 1.6281 - val_acc: 0.1655\n",
      "Epoch 3/25\n",
      " - 172s - loss: 1.5917 - acc: 0.2066 - val_loss: 1.6266 - val_acc: 0.1655\n",
      "Epoch 4/25\n",
      " - 175s - loss: 1.5639 - acc: 0.2247 - val_loss: 1.6251 - val_acc: 0.1655\n",
      "Epoch 5/25\n",
      " - 181s - loss: 1.5590 - acc: 0.2176 - val_loss: 1.6237 - val_acc: 0.1655\n",
      "Epoch 6/25\n",
      " - 194s - loss: 1.5497 - acc: 0.2280 - val_loss: 1.6222 - val_acc: 0.1655\n",
      "Epoch 7/25\n",
      " - 203s - loss: 1.5504 - acc: 0.2163 - val_loss: 1.6208 - val_acc: 0.1655\n",
      "Epoch 8/25\n",
      " - 210s - loss: 1.5613 - acc: 0.2215 - val_loss: 1.6193 - val_acc: 0.1655\n",
      "Epoch 9/25\n",
      " - 215s - loss: 1.5539 - acc: 0.2234 - val_loss: 1.6179 - val_acc: 0.1655\n",
      "Epoch 10/25\n",
      " - 221s - loss: 1.5419 - acc: 0.2280 - val_loss: 1.6164 - val_acc: 0.1655\n",
      "Epoch 11/25\n",
      " - 221s - loss: 1.5473 - acc: 0.2150 - val_loss: 1.6150 - val_acc: 0.1655\n",
      "Epoch 12/25\n",
      " - 227s - loss: 1.5442 - acc: 0.2189 - val_loss: 1.6135 - val_acc: 0.1655\n",
      "Epoch 13/25\n",
      " - 228s - loss: 1.5453 - acc: 0.2092 - val_loss: 1.6121 - val_acc: 0.1655\n",
      "Epoch 14/25\n",
      " - 234s - loss: 1.5421 - acc: 0.2189 - val_loss: 1.6106 - val_acc: 0.1655\n",
      "Epoch 15/25\n",
      " - 235s - loss: 1.5379 - acc: 0.2247 - val_loss: 1.6091 - val_acc: 0.1655\n",
      "Epoch 16/25\n",
      " - 241s - loss: 1.5202 - acc: 0.2364 - val_loss: 1.6077 - val_acc: 0.1655\n",
      "Epoch 17/25\n",
      " - 245s - loss: 1.5258 - acc: 0.2332 - val_loss: 1.6063 - val_acc: 0.1655\n",
      "Epoch 18/25\n",
      " - 246s - loss: 1.5356 - acc: 0.2234 - val_loss: 1.6048 - val_acc: 0.1655\n",
      "Epoch 19/25\n",
      " - 298s - loss: 1.5201 - acc: 0.2247 - val_loss: 1.6034 - val_acc: 0.1655\n",
      "Epoch 20/25\n",
      " - 255s - loss: 1.5213 - acc: 0.2358 - val_loss: 1.6019 - val_acc: 0.1655\n",
      "Epoch 21/25\n",
      " - 258s - loss: 1.5107 - acc: 0.2345 - val_loss: 1.6005 - val_acc: 0.1655\n",
      "Epoch 22/25\n",
      " - 1079s - loss: 1.5256 - acc: 0.2273 - val_loss: 1.5991 - val_acc: 0.1655\n",
      "Epoch 23/25\n",
      " - 337s - loss: 1.5197 - acc: 0.2234 - val_loss: 1.5977 - val_acc: 0.1655\n",
      "Epoch 24/25\n",
      " - 336s - loss: 1.5310 - acc: 0.2338 - val_loss: 1.5962 - val_acc: 0.1655\n",
      "Epoch 25/25\n",
      " - 354s - loss: 1.5213 - acc: 0.2370 - val_loss: 1.5948 - val_acc: 0.1655\n"
     ]
    },
    {
     "data": {
      "image/png": "[encoded data removed]",
      "text/plain": [
       "<Figure size 432x288 with 1 Axes>"
      ]
     },
     "metadata": {
      "needs_background": "light"
     },
     "output_type": "display_data"
    }
   ],
   "source": [
    "#fit model  \n",
    "#evaluation for the baseline model validation dataset\n",
    "history_01 = model_01.fit(X_train, y_train, epochs=25, batch_size=len(X_train),\n",
    "                    validation_data=(X_val, y_val), verbose=2, shuffle=False)\n",
    "\n",
    "plt.plot(history_01.history['loss'], label='train')\n",
    "plt.plot(history_01.history['val_loss'], label='test')\n",
    "plt.legend()\n",
    "plt.show() "
   ]
  },
  {
   "cell_type": "code",
   "execution_count": 13,
   "metadata": {},
   "outputs": [
    {
     "name": "stdout",
     "output_type": "stream",
     "text": [
      "[[0.4076443  0.23425972 0.20270586 0.15539016]]\n"
     ]
    }
   ],
   "source": [
    "predictions_01= model_01.predict(X_val, verbose=0)\n",
    "print(predictions_01[:1])"
   ]
  },
  {
   "cell_type": "code",
   "execution_count": 26,
   "metadata": {},
   "outputs": [],
   "source": [
    "# create and fit model 2\n",
    "# LSTM RNN with Sgd optimizer\n",
    "model_02 = Sequential()\n",
    "model_02 .add(LSTM(4))\n",
    "model_02 .add(Dense(y_train.shape[1]))\n",
    "model_02 .add(Activation('softmax'))\n",
    "model_02 .compile(loss='categorical_crossentropy', optimizer='sgd',metrics=['accuracy'])\n"
   ]
  },
  {
   "cell_type": "code",
   "execution_count": 27,
   "metadata": {},
   "outputs": [
    {
     "name": "stdout",
     "output_type": "stream",
     "text": [
      "Train on 1544 samples, validate on 441 samples\n",
      "Epoch 1/20\n",
      " - 87s - loss: 1.3968 - acc: 0.1554 - val_loss: 1.3930 - val_acc: 0.1655\n",
      "Epoch 2/20\n",
      " - 88s - loss: 1.3945 - acc: 0.1554 - val_loss: 1.3908 - val_acc: 0.1655\n",
      "Epoch 3/20\n",
      " - 90s - loss: 1.3922 - acc: 0.1554 - val_loss: 1.3887 - val_acc: 0.1655\n",
      "Epoch 4/20\n",
      " - 92s - loss: 1.3899 - acc: 0.1554 - val_loss: 1.3866 - val_acc: 0.1655\n",
      "Epoch 5/20\n",
      " - 91s - loss: 1.3877 - acc: 0.1554 - val_loss: 1.3845 - val_acc: 0.1655\n",
      "Epoch 6/20\n",
      " - 96s - loss: 1.3854 - acc: 0.1554 - val_loss: 1.3824 - val_acc: 0.1655\n",
      "Epoch 7/20\n",
      " - 95s - loss: 1.3832 - acc: 0.1554 - val_loss: 1.3804 - val_acc: 0.1655\n",
      "Epoch 8/20\n",
      " - 94s - loss: 1.3811 - acc: 0.1554 - val_loss: 1.3784 - val_acc: 0.1655\n",
      "Epoch 9/20\n",
      " - 96s - loss: 1.3789 - acc: 0.1554 - val_loss: 1.3764 - val_acc: 0.1655\n",
      "Epoch 10/20\n",
      " - 96s - loss: 1.3768 - acc: 0.1554 - val_loss: 1.3744 - val_acc: 0.1655\n",
      "Epoch 11/20\n",
      " - 102s - loss: 1.3747 - acc: 0.1554 - val_loss: 1.3724 - val_acc: 0.1655\n",
      "Epoch 12/20\n",
      " - 97s - loss: 1.3726 - acc: 0.1554 - val_loss: 1.3705 - val_acc: 0.1655\n",
      "Epoch 13/20\n",
      " - 99s - loss: 1.3705 - acc: 0.1554 - val_loss: 1.3686 - val_acc: 0.1655\n",
      "Epoch 14/20\n",
      " - 98s - loss: 1.3685 - acc: 0.1554 - val_loss: 1.3667 - val_acc: 0.1655\n",
      "Epoch 15/20\n",
      " - 96s - loss: 1.3665 - acc: 0.1554 - val_loss: 1.3649 - val_acc: 0.1655\n",
      "Epoch 16/20\n",
      " - 91s - loss: 1.3645 - acc: 0.1554 - val_loss: 1.3630 - val_acc: 0.1655\n",
      "Epoch 17/20\n",
      " - 89s - loss: 1.3625 - acc: 0.1554 - val_loss: 1.3612 - val_acc: 0.1655\n",
      "Epoch 18/20\n",
      " - 89s - loss: 1.3606 - acc: 0.1554 - val_loss: 1.3594 - val_acc: 0.1655\n",
      "Epoch 19/20\n",
      " - 89s - loss: 1.3587 - acc: 0.1554 - val_loss: 1.3576 - val_acc: 0.1655\n",
      "Epoch 20/20\n",
      " - 91s - loss: 1.3568 - acc: 0.1554 - val_loss: 1.3558 - val_acc: 0.1655\n"
     ]
    },
    {
     "data": {
      "image/png": "[encoded data removed]",
      "text/plain": [
       "<Figure size 432x288 with 1 Axes>"
      ]
     },
     "metadata": {
      "needs_background": "light"
     },
     "output_type": "display_data"
    }
   ],
   "source": [
    "#fit model  \n",
    "#evaluation for the baseline model validation dataset\n",
    "history_02 = model_02.fit(X_train, y_train, epochs=20, batch_size=len(X_train),\n",
    "                          validation_data=(X_val, y_val), verbose=2, shuffle=False)\n",
    "\n"
   ]
  },
  {
   "cell_type": "code",
   "execution_count": 28,
   "metadata": {},
   "outputs": [
    {
     "data": {
      "image/png": "[encoded data removed]",
      "text/plain": [
       "<Figure size 432x288 with 1 Axes>"
      ]
     },
     "metadata": {
      "needs_background": "light"
     },
     "output_type": "display_data"
    }
   ],
   "source": [
    "plt.plot(history_02.history['loss'], label='train')\n",
    "plt.plot(history_02.history['val_loss'], label='test')\n",
    "plt.legend()\n",
    "plt.show() "
   ]
  },
  {
   "cell_type": "code",
   "execution_count": 29,
   "metadata": {},
   "outputs": [
    {
     "data": {
      "image/png": "[encoded data removed]",
      "text/plain": [
       "<Figure size 432x288 with 1 Axes>"
      ]
     },
     "metadata": {
      "needs_background": "light"
     },
     "output_type": "display_data"
    }
   ],
   "source": [
    "plt.plot(history_02.history['acc'], label='train')\n",
    "plt.plot(history_02.history['val_acc'], label='test')\n",
    "plt.legend()\n",
    "plt.show() "
   ]
  },
  {
   "cell_type": "code",
   "execution_count": 32,
   "metadata": {},
   "outputs": [
    {
     "name": "stdout",
     "output_type": "stream",
     "text": [
      "[[0.30730298 0.20900938 0.20495114 0.27873647]]\n"
     ]
    }
   ],
   "source": [
    "predictions_02= model_02.predict(X_val, verbose=0)\n",
    "print(predictions_02[:1])"
   ]
  },
  {
   "cell_type": "code",
   "execution_count": 60,
   "metadata": {},
   "outputs": [],
   "source": [
    "model_1.save('DaiyiD_model_Keras_1.h5')"
   ]
  },
  {
   "cell_type": "code",
   "execution_count": 17,
   "metadata": {},
   "outputs": [],
   "source": [
    "# create and fit the model 3\n",
    "# GRU\n",
    "model_03 = Sequential()\n",
    "model_03.add(GRU(4))\n",
    "model_03.add(Dense(y_train.shape[1]))\n",
    "model_03.add(Activation('softmax'))\n",
    "model_03.compile(loss='categorical_crossentropy', optimizer='adam',metrics=['accuracy'])"
   ]
  },
  {
   "cell_type": "code",
   "execution_count": 18,
   "metadata": {},
   "outputs": [
    {
     "name": "stdout",
     "output_type": "stream",
     "text": [
      "Train on 1544 samples, validate on 441 samples\n",
      "Epoch 1/25\n",
      " - 91s - loss: 1.7013 - acc: 0.1554 - val_loss: 1.7049 - val_acc: 0.1587\n",
      "Epoch 2/25\n",
      " - 90s - loss: 1.6986 - acc: 0.1554 - val_loss: 1.7019 - val_acc: 0.1587\n",
      "Epoch 3/25\n",
      " - 94s - loss: 1.6956 - acc: 0.1554 - val_loss: 1.6988 - val_acc: 0.1587\n",
      "Epoch 4/25\n",
      " - 100s - loss: 1.6924 - acc: 0.1554 - val_loss: 1.6953 - val_acc: 0.1587\n",
      "Epoch 5/25\n",
      " - 102s - loss: 1.6889 - acc: 0.1554 - val_loss: 1.6921 - val_acc: 0.1587\n",
      "Epoch 6/25\n",
      " - 99s - loss: 1.6856 - acc: 0.1554 - val_loss: 1.6886 - val_acc: 0.1587\n",
      "Epoch 7/25\n",
      " - 102s - loss: 1.6821 - acc: 0.1554 - val_loss: 1.6852 - val_acc: 0.1587\n",
      "Epoch 8/25\n",
      " - 94s - loss: 1.6787 - acc: 0.1554 - val_loss: 1.6819 - val_acc: 0.1587\n",
      "Epoch 9/25\n",
      " - 107s - loss: 1.6753 - acc: 0.1554 - val_loss: 1.6785 - val_acc: 0.1587\n",
      "Epoch 10/25\n",
      " - 100s - loss: 1.6719 - acc: 0.1554 - val_loss: 1.6752 - val_acc: 0.1587\n",
      "Epoch 11/25\n",
      " - 108s - loss: 1.6685 - acc: 0.1554 - val_loss: 1.6718 - val_acc: 0.1587\n",
      "Epoch 12/25\n",
      " - 102s - loss: 1.6651 - acc: 0.1554 - val_loss: 1.6685 - val_acc: 0.1587\n",
      "Epoch 13/25\n",
      " - 100s - loss: 1.6617 - acc: 0.1554 - val_loss: 1.6651 - val_acc: 0.1587\n",
      "Epoch 14/25\n",
      " - 100s - loss: 1.6583 - acc: 0.1554 - val_loss: 1.6618 - val_acc: 0.1587\n",
      "Epoch 15/25\n",
      " - 98s - loss: 1.6549 - acc: 0.1554 - val_loss: 1.6585 - val_acc: 0.1587\n",
      "Epoch 16/25\n",
      " - 98s - loss: 1.6516 - acc: 0.1554 - val_loss: 1.6552 - val_acc: 0.1587\n",
      "Epoch 17/25\n",
      " - 96s - loss: 1.6483 - acc: 0.1554 - val_loss: 1.6519 - val_acc: 0.1587\n",
      "Epoch 18/25\n",
      " - 103s - loss: 1.6449 - acc: 0.1554 - val_loss: 1.6486 - val_acc: 0.1587\n",
      "Epoch 19/25\n",
      " - 98s - loss: 1.6416 - acc: 0.1554 - val_loss: 1.6454 - val_acc: 0.1587\n",
      "Epoch 20/25\n",
      " - 98s - loss: 1.6383 - acc: 0.1554 - val_loss: 1.6422 - val_acc: 0.1587\n",
      "Epoch 21/25\n",
      " - 101s - loss: 1.6350 - acc: 0.1554 - val_loss: 1.6389 - val_acc: 0.1587\n",
      "Epoch 22/25\n",
      " - 101s - loss: 1.6317 - acc: 0.1554 - val_loss: 1.6357 - val_acc: 0.1587\n",
      "Epoch 23/25\n",
      " - 101s - loss: 1.6285 - acc: 0.1554 - val_loss: 1.6325 - val_acc: 0.1587\n",
      "Epoch 24/25\n",
      " - 99s - loss: 1.6252 - acc: 0.1554 - val_loss: 1.6293 - val_acc: 0.1587\n",
      "Epoch 25/25\n",
      " - 111s - loss: 1.6220 - acc: 0.1554 - val_loss: 1.6262 - val_acc: 0.1587\n"
     ]
    },
    {
     "data": {
      "image/png": "[encoded data removed]",
      "text/plain": [
       "<Figure size 432x288 with 1 Axes>"
      ]
     },
     "metadata": {
      "needs_background": "light"
     },
     "output_type": "display_data"
    }
   ],
   "source": [
    "#fit model  \n",
    "#evaluation for the baseline model validation dataset\n",
    "history_03 = model_03.fit(X_train, y_train, epochs=25, batch_size=len(X_train),\n",
    "                    validation_data=(X_val, y_val), verbose=2, shuffle=False)\n",
    "\n",
    "plt.plot(history_03.history['loss'], label='train')\n",
    "plt.plot(history_03.history['val_loss'], label='test')\n",
    "plt.legend()\n",
    "plt.show() "
   ]
  },
  {
   "cell_type": "code",
   "execution_count": 19,
   "metadata": {},
   "outputs": [
    {
     "name": "stdout",
     "output_type": "stream",
     "text": [
      "[[0.07837518 0.56002057 0.15597823 0.20562601]]\n"
     ]
    }
   ],
   "source": [
    "predictions_03= model_03.predict(X_val, verbose=0)\n",
    "print(predictions_03[:1])"
   ]
  },
  {
   "cell_type": "code",
   "execution_count": 61,
   "metadata": {},
   "outputs": [],
   "source": [
    "# model_2.save('DaiyiD_model_Keras_2.h5')"
   ]
  },
  {
   "cell_type": "code",
   "execution_count": 4,
   "metadata": {},
   "outputs": [],
   "source": [
    "# create and fit the model 4\n",
    "# BiLSTM + CNN\n",
    "\n",
    "model_04 = Sequential() \n",
    "model_04.add(Bidirectional(LSTM(4, return_sequences=True)))\n",
    "model_04.add(TimeDistributed(Dense(4)))\n",
    "model_04.add(Activation('softplus'))\n",
    "model_04.add(MaxPooling1D(5))\n",
    "model_04.add(Flatten())\n",
    "model_04.add(Dense(y_train.shape[1]))\n",
    "model_04.add(Activation('softmax'))\n",
    "model_04.compile(loss='categorical_crossentropy', optimizer='adam', metrics=['accuracy'])"
   ]
  },
  {
   "cell_type": "code",
   "execution_count": 5,
   "metadata": {},
   "outputs": [
    {
     "name": "stdout",
     "output_type": "stream",
     "text": [
      "Train on 1544 samples, validate on 441 samples\n",
      "Epoch 1/25\n",
      " - 191s - loss: 1.3116 - acc: 0.5337 - val_loss: 2.9173 - val_acc: 0.5170\n",
      "Epoch 2/25\n",
      " - 230s - loss: 2.8151 - acc: 0.5337 - val_loss: 1.8149 - val_acc: 0.5170\n",
      "Epoch 3/25\n",
      " - 213s - loss: 1.7587 - acc: 0.5337 - val_loss: 1.6755 - val_acc: 0.1655\n",
      "Epoch 4/25\n",
      " - 228s - loss: 1.6766 - acc: 0.1554 - val_loss: 1.7483 - val_acc: 0.1587\n",
      "Epoch 5/25\n",
      " - 245s - loss: 1.7627 - acc: 0.1554 - val_loss: 1.5335 - val_acc: 0.1587\n",
      "Epoch 6/25\n",
      " - 132s - loss: 1.5343 - acc: 0.1554 - val_loss: 1.3916 - val_acc: 0.5170\n",
      "Epoch 7/25\n",
      " - 179s - loss: 1.3670 - acc: 0.5337 - val_loss: 1.5038 - val_acc: 0.5170\n",
      "Epoch 8/25\n",
      " - 192s - loss: 1.4575 - acc: 0.5337 - val_loss: 1.6439 - val_acc: 0.5170\n",
      "Epoch 9/25\n",
      " - 171s - loss: 1.5905 - acc: 0.5337 - val_loss: 1.5090 - val_acc: 0.5170\n",
      "Epoch 10/25\n",
      " - 152s - loss: 1.4634 - acc: 0.5337 - val_loss: 1.2843 - val_acc: 0.5170\n",
      "Epoch 11/25\n",
      " - 144s - loss: 1.2571 - acc: 0.5337 - val_loss: 1.3379 - val_acc: 0.5170\n",
      "Epoch 12/25\n",
      " - 152s - loss: 1.3304 - acc: 0.5337 - val_loss: 1.4459 - val_acc: 0.1587\n",
      "Epoch 13/25\n",
      " - 149s - loss: 1.4475 - acc: 0.1554 - val_loss: 1.3563 - val_acc: 0.5170\n",
      "Epoch 14/25\n",
      " - 181s - loss: 1.3542 - acc: 0.5337 - val_loss: 1.2651 - val_acc: 0.5170\n",
      "Epoch 15/25\n",
      " - 145s - loss: 1.2508 - acc: 0.5337 - val_loss: 1.2928 - val_acc: 0.5170\n",
      "Epoch 16/25\n",
      " - 124s - loss: 1.2641 - acc: 0.5337 - val_loss: 1.3814 - val_acc: 0.5170\n",
      "Epoch 17/25\n",
      " - 129s - loss: 1.3426 - acc: 0.5337 - val_loss: 1.4018 - val_acc: 0.5170\n",
      "Epoch 18/25\n",
      " - 151s - loss: 1.3612 - acc: 0.5337 - val_loss: 1.3148 - val_acc: 0.5170\n",
      "Epoch 19/25\n",
      " - 166s - loss: 1.2807 - acc: 0.5337 - val_loss: 1.2284 - val_acc: 0.5170\n",
      "Epoch 20/25\n",
      " - 176s - loss: 1.2062 - acc: 0.5337 - val_loss: 1.2627 - val_acc: 0.5170\n",
      "Epoch 21/25\n",
      " - 210s - loss: 1.2522 - acc: 0.5337 - val_loss: 1.3185 - val_acc: 0.5170\n",
      "Epoch 22/25\n",
      " - 163s - loss: 1.3132 - acc: 0.5337 - val_loss: 1.2805 - val_acc: 0.5170\n",
      "Epoch 23/25\n",
      " - 157s - loss: 1.2721 - acc: 0.5337 - val_loss: 1.2263 - val_acc: 0.5170\n",
      "Epoch 24/25\n",
      " - 187s - loss: 1.2089 - acc: 0.5337 - val_loss: 1.2491 - val_acc: 0.5170\n",
      "Epoch 25/25\n",
      " - 174s - loss: 1.2221 - acc: 0.5337 - val_loss: 1.2998 - val_acc: 0.5170\n"
     ]
    },
    {
     "data": {
      "image/png": "[encoded data removed]",
      "text/plain": [
       "<Figure size 432x288 with 1 Axes>"
      ]
     },
     "metadata": {
      "needs_background": "light"
     },
     "output_type": "display_data"
    }
   ],
   "source": [
    "#fit model  \n",
    "#evaluation for the baseline model validation dataset\n",
    "history_04 = model_04.fit(X_train, y_train, epochs=25, batch_size=len(X_train),\n",
    "                    validation_data=(X_val, y_val), verbose=2, shuffle=False)\n",
    "\n",
    "plt.plot(history_04.history['loss'], label='train')\n",
    "plt.plot(history_04.history['val_loss'], label='test')\n",
    "plt.legend()\n",
    "plt.show() "
   ]
  },
  {
   "cell_type": "code",
   "execution_count": 23,
   "metadata": {},
   "outputs": [
    {
     "data": {
      "image/png": "[encoded data removed]",
      "text/plain": [
       "<Figure size 432x288 with 1 Axes>"
      ]
     },
     "metadata": {
      "needs_background": "light"
     },
     "output_type": "display_data"
    }
   ],
   "source": [
    "plt.plot(history_04.history['acc'], label='train')\n",
    "plt.plot(history_04.history['val_acc'], label='test')\n",
    "plt.legend()\n",
    "plt.show() "
   ]
  },
  {
   "cell_type": "code",
   "execution_count": 7,
   "metadata": {},
   "outputs": [
    {
     "name": "stdout",
     "output_type": "stream",
     "text": [
      "[[0.08390137 0.08688809 0.14768513 0.68152535]]\n"
     ]
    }
   ],
   "source": [
    "predictions_04= model_04.predict(X_val, verbose=0)\n",
    "print(predictions_04[:1])"
   ]
  },
  {
   "cell_type": "code",
   "execution_count": 20,
   "metadata": {},
   "outputs": [],
   "source": [
    "# create and fit the model 5\n",
    "#LSTM with earlystopping\n",
    "model_05= Sequential()\n",
    "model_05.add(LSTM(4, return_sequences=True,  input_shape=(X_train.shape[1], X_train.shape[2])))\n",
    "model_05.add(LSTM(4))\n",
    "model_05.add(Dense(y_train.shape[1]))\n",
    "model_05.compile(loss='categorical_crossentropy', optimizer='adam', metrics=['accuracy'])\n",
    " "
   ]
  },
  {
   "cell_type": "code",
   "execution_count": 21,
   "metadata": {},
   "outputs": [],
   "source": [
    "model_05.save('model_05.h5')"
   ]
  },
  {
   "cell_type": "code",
   "execution_count": 24,
   "metadata": {},
   "outputs": [
    {
     "name": "stdout",
     "output_type": "stream",
     "text": [
      "Train on 1544 samples, validate on 441 samples\n",
      "Epoch 1/20\n",
      " - 258s - loss: 11.1073 - acc: 0.1554 - val_loss: 10.8916 - val_acc: 0.1587\n",
      "Epoch 2/20\n",
      " - 237s - loss: 11.1073 - acc: 0.1554 - val_loss: 10.8916 - val_acc: 0.1587\n",
      "Epoch 3/20\n",
      " - 651s - loss: 11.1073 - acc: 0.1554 - val_loss: 10.8916 - val_acc: 0.1587\n"
     ]
    },
    {
     "data": {
      "image/png": "[encoded data removed]",
      "text/plain": [
       "<Figure size 432x288 with 1 Axes>"
      ]
     },
     "metadata": {
      "needs_background": "light"
     },
     "output_type": "display_data"
    }
   ],
   "source": [
    "# Early stopping\n",
    "callbacks = [EarlyStopping(monitor='val_loss', patience=2),\n",
    "             ModelCheckpoint(filepath='model_05.h5', monitor='val_loss', save_best_only=True)]\n",
    "history_05 = model_05.fit(X_train, y_train, epochs=20, batch_size=len(X_train),\n",
    "                    validation_data=(X_val, y_val), verbose=2, shuffle=False,callbacks=callbacks)\n",
    "\n",
    "\n",
    " "
   ]
  },
  {
   "cell_type": "code",
   "execution_count": 30,
   "metadata": {},
   "outputs": [
    {
     "data": {
      "image/png": "[encoded data removed]",
      "text/plain": [
       "<Figure size 432x288 with 1 Axes>"
      ]
     },
     "metadata": {
      "needs_background": "light"
     },
     "output_type": "display_data"
    }
   ],
   "source": [
    "plt.plot(history_05.history['loss'], label='train')\n",
    "plt.plot(history_05.history['val_loss'], label='test')\n",
    "plt.legend()\n",
    "plt.show() "
   ]
  },
  {
   "cell_type": "code",
   "execution_count": 31,
   "metadata": {},
   "outputs": [
    {
     "data": {
      "image/png": "[encoded data removed]",
      "text/plain": [
       "<Figure size 432x288 with 1 Axes>"
      ]
     },
     "metadata": {
      "needs_background": "light"
     },
     "output_type": "display_data"
    }
   ],
   "source": [
    "plt.plot(history_02.history['acc'], label='train')\n",
    "plt.plot(history_02.history['val_acc'], label='test')\n",
    "plt.legend()\n",
    "plt.show() "
   ]
  },
  {
   "cell_type": "code",
   "execution_count": 25,
   "metadata": {},
   "outputs": [
    {
     "name": "stdout",
     "output_type": "stream",
     "text": [
      "[[-0.14008465  0.22545236 -0.2673509   0.1603829 ]]\n"
     ]
    }
   ],
   "source": [
    "predictions_05= model_05.predict(X_val, verbose=0)\n",
    "print(predictions_05[:1])"
   ]
  },
  {
   "cell_type": "code",
   "execution_count": null,
   "metadata": {},
   "outputs": [],
   "source": []
  }
 ],
 "metadata": {
  "kernelspec": {
   "display_name": "Python 3",
   "language": "python",
   "name": "python3"
  },
  "language_info": {
   "codemirror_mode": {
    "name": "ipython",
    "version": 3
   },
   "file_extension": ".py",
   "mimetype": "text/x-python",
   "name": "python",
   "nbconvert_exporter": "python",
   "pygments_lexer": "ipython3",
   "version": "3.6.4"
  }
 },
 "nbformat": 4,
 "nbformat_minor": 2
}
