{
 "cells": [
  {
   "cell_type": "code",
   "execution_count": null,
   "metadata": {},
   "outputs": [],
   "source": [
    "import numpy as np\n",
    "import pandas as pd\n",
    "import tensorflow as tf\n",
    "\n",
    "# Set max_columns output to 999\n",
    "pd.set_option('display.max_columns', 999)\n",
    "\n",
    "# Extract http://archive.ics.uci.edu/ml/machine-learning-databases/00447/ to same directory as this script\n",
    "\n",
    "# List files\n",
    "one = ['.\\\\data\\\\TS1.txt', '.\\\\data\\\\TS2.txt', '.\\\\data\\\\TS3.txt', '.\\\\data\\\\TS4.txt', '.\\\\data\\\\VS1.txt', '.\\\\data\\\\CE.txt', '.\\\\data\\\\CP.txt', '.\\\\data\\\\SE.txt']\n",
    "ten = ['.\\\\data\\\\FS1.txt', '.\\\\data\\\\FS2.txt']\n",
    "hundred = ['.\\\\data\\\\PS1.txt', '.\\\\data\\\\PS2.txt', '.\\\\data\\\\PS3.txt', '.\\\\data\\\\PS4.txt', '.\\\\data\\\\PS5.txt', '.\\\\data\\\\PS6.txt', '.\\\\data\\\\EPS1.txt']\n",
    "\n",
    "# Parse 1 Hz measurements\n",
    "df_one = pd.concat([pd.read_table(x, header=None).stack() for x in one], axis=1)\n",
    "df_one.columns = (x[7:-4] for x in one)\n",
    "df_one = df_one.reset_index()\n",
    "df_one.index = (df_one.index + 1)*100\n",
    "\n",
    "# Parse 10 Hz measurements\n",
    "df_ten = pd.concat([pd.read_table(x, header=None).stack() for x in ten], axis=1)\n",
    "df_ten.columns = (x[7:-4] for x in ten)\n",
    "df_ten = df_ten.reset_index()\n",
    "df_ten.index = (df_ten.index +1)*10\n",
    "\n",
    "# Parse 100 Hz measurements\n",
    "df_hundred = pd.concat([pd.read_table(x, header=None).stack() for x in hundred], axis=1)\n",
    "df_hundred.columns = (x[7:-4] for x in hundred)\n",
    "df_hundred = df_hundred.reset_index()\n",
    "\n",
    "# Parse condition profiles\n",
    "df_profile = pd.read_table('.\\\\data\\\\profile.txt', header=None)\n",
    "df_profile.columns = ['Cooler_efficiency', 'Valve_response', 'Pump_leakage', 'Accumulator_pressure', 'Instability_flag']\n",
    "df_profile.index = (df_profile.index +1)*6000\n",
    "\n",
    "# Concatenate all data\n",
    "df = pd.concat([df_one, df_ten, df_hundred, df_profile], axis=1)\n",
    "df = df.fillna(method='backfill')\n",
    "df = df.fillna(method='ffill')\n",
    "df = df.loc[:,~df.columns.duplicated()]\n",
    "\n",
    "# Explore data\n",
    "print(df.shape)\n",
    "print(list(df))\n",
    "print(df.head())\n",
    "print(df.tail())\n",
    "print(df.dtypes)\n",
    "print(df.describe())\n"
   ]
  }
 ],
 "metadata": {
  "kernelspec": {
   "display_name": "Python 3",
   "language": "python",
   "name": "python3"
  },
  "language_info": {
   "codemirror_mode": {
    "name": "ipython",
    "version": 3
   },
   "file_extension": ".py",
   "mimetype": "text/x-python",
   "name": "python",
   "nbconvert_exporter": "python",
   "pygments_lexer": "ipython3",
   "version": "3.6.4"
  }
 },
 "nbformat": 4,
 "nbformat_minor": 2
}
